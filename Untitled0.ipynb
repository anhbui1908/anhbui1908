{
  "nbformat": 4,
  "nbformat_minor": 0,
  "metadata": {
    "colab": {
      "provenance": [],
      "authorship_tag": "ABX9TyNwRwIgin4cPoXZMmpy9ysK",
      "include_colab_link": true
    },
    "kernelspec": {
      "name": "python3",
      "display_name": "Python 3"
    },
    "language_info": {
      "name": "python"
    }
  },
  "cells": [
    {
      "cell_type": "markdown",
      "metadata": {
        "id": "view-in-github",
        "colab_type": "text"
      },
      "source": [
        "<a href=\"https://colab.research.google.com/github/anhbui1908/anhbui1908/blob/main/Untitled0.ipynb\" target=\"_parent\"><img src=\"https://colab.research.google.com/assets/colab-badge.svg\" alt=\"Open In Colab\"/></a>"
      ]
    },
    {
      "cell_type": "code",
      "source": [
        "import rasterio\n",
        "import numpy as np\n",
        "import matplotlib.pyplot as plt\n",
        "from sklearn.metrics import jaccard_score\n",
        "from skimage.transform import resize\n",
        "\n",
        "# Step 1: Load satellite image\n",
        "def load_satellite_image(\"D:\\NCKH2025\\DeepL\\S2_CGio2019.tif\"):\n",
        "    with rasterio.open(path) as src:\n",
        "        img = src.read([4, 3, 2])  # Use RGB or adjust bands\n",
        "        img = img.astype(np.float32) / 10000.0  # Normalize\n",
        "    return img\n",
        "\n",
        "# Step 2: Load drone mask (grayscale)\n",
        "def load_mask(path, target_shape):\n",
        "    with rasterio.open(path) as src:\n",
        "        mask = src.read(1)\n",
        "        mask = (mask > 0).astype(np.uint8)  # Convert to binary mask\n",
        "        if mask.shape != target_shape:\n",
        "            mask = resize(mask, target_shape, order=0, preserve_range=True).astype(np.uint8)\n",
        "    return mask\n",
        "\n",
        "# Step 3: Compare masks\n",
        "def compare_masks(pred, truth):\n",
        "    pred_flat = pred.flatten()\n",
        "    truth_flat = truth.flatten()\n",
        "    iou = jaccard_score(truth_flat, pred_flat)\n",
        "    return iou\n",
        "\n",
        "# File paths\n",
        "sat_path = \"sentinel2_image.tif\"   # 3-band or multi-band image\n",
        "drone_mask_path = \"drone_mask.tif\" # binary mask image\n",
        "\n",
        "# Load and process\n",
        "sat_img = load_satellite_image(sat_path)\n",
        "drone_mask = load_mask(drone_mask_path, sat_img.shape[1:])\n",
        "\n",
        "# Optional: generate a dummy predicted mask (e.g., threshold band)\n",
        "pred_mask = (sat_img[0] > 0.3).astype(np.uint8)  # Example thresholding\n",
        "\n",
        "# Compare\n",
        "iou = compare_masks(pred_mask, drone_mask)\n",
        "print(f\"Intersection over Union (IoU): {iou:.4f}\")\n",
        "\n",
        "# Visualize\n",
        "plt.figure(figsize=(12, 4))\n",
        "plt.subplot(1, 3, 1)\n",
        "plt.imshow(np.transpose(sat_img, (1, 2, 0)))\n",
        "plt.title(\"Satellite Image\")\n",
        "\n",
        "plt.subplot(1, 3, 2)\n",
        "plt.imshow(drone_mask, cmap=\"gray\")\n",
        "plt.title(\"Drone Mask\")\n",
        "\n",
        "plt.subplot(1, 3, 3)\n",
        "plt.imshow(pred_mask, cmap=\"gray\")\n",
        "plt.title(\"Predicted Mask\")\n",
        "\n",
        "plt.tight_layout()\n",
        "plt.show()\n"
      ],
      "metadata": {
        "id": "btTXbZ_YjI7C"
      },
      "execution_count": null,
      "outputs": []
    }
  ]
}